{
 "cells": [
  {
   "cell_type": "markdown",
   "id": "88cbc334",
   "metadata": {},
   "source": [
    "## Importing Libraries"
   ]
  },
  {
   "cell_type": "code",
   "execution_count": 2,
   "id": "9e5a0577",
   "metadata": {},
   "outputs": [
    {
     "name": "stderr",
     "output_type": "stream",
     "text": [
      "2022-04-16 18:05:19.443630: W tensorflow/stream_executor/platform/default/dso_loader.cc:64] Could not load dynamic library 'libcudart.so.11.0'; dlerror: libcudart.so.11.0: cannot open shared object file: No such file or directory; LD_LIBRARY_PATH: /home/aron/anaconda3/lib/python3.9/site-packages/cv2/../../lib64:\n",
      "2022-04-16 18:05:19.443666: I tensorflow/stream_executor/cuda/cudart_stub.cc:29] Ignore above cudart dlerror if you do not have a GPU set up on your machine.\n"
     ]
    }
   ],
   "source": [
    "import sys\n",
    "import numpy as np\n",
    "import pandas as pd\n",
    "from skimage.io import imread\n",
    "import pickle\n",
    "import os\n",
    "import matplotlib.pyplot as plt\n",
    "%matplotlib inline\n",
    "\n",
    "import cv2\n",
    "import time\n",
    "\n",
    "import tensorflow as tf\n",
    "from keras.models import Sequential\n",
    "from tensorflow.keras.optimizers import Adam\n",
    "from keras.layers import Conv2D, ZeroPadding2D, Activation, Input, concatenate\n",
    "from keras.models import Model\n",
    "from keras.preprocessing import image\n",
    "\n",
    "from tensorflow.keras.layers import BatchNormalization\n",
    "from keras.layers.pooling import MaxPooling2D\n",
    "from keras.layers.merge import Concatenate\n",
    "from keras.layers.core import Lambda, Flatten, Dense\n",
    "from keras.initializers import glorot_uniform\n",
    "from keras.preprocessing.image import ImageDataGenerator\n",
    "\n",
    "from tensorflow.keras.layers import Layer\n",
    "from keras.regularizers import l2\n",
    "from keras import backend as K\n",
    "\n",
    "from sklearn.utils import shuffle\n",
    "\n",
    "import numpy.random as rng"
   ]
  },
  {
   "cell_type": "markdown",
   "id": "f186742b",
   "metadata": {},
   "source": [
    "## Making Folders and Setting Directories"
   ]
  },
  {
   "cell_type": "code",
   "execution_count": 3,
   "id": "4688fa9f",
   "metadata": {},
   "outputs": [],
   "source": [
    "DATA_PATH= os.path.join('datasets/')\n",
    "TRAIN_PATH=os.path.join(DATA_PATH,'train')\n",
    "VAL_PATH=os.path.join(DATA_PATH,'validate')\n",
    "SAV_PATH=os.path.join(DATA_PATH, 'resized-data')"
   ]
  },
  {
   "cell_type": "code",
   "execution_count": 4,
   "id": "f286c6ea",
   "metadata": {},
   "outputs": [],
   "source": [
    "\n",
    "# os.makedirs(SAV_PATH)"
   ]
  },
  {
   "cell_type": "code",
   "execution_count": 5,
   "id": "acd4b531",
   "metadata": {},
   "outputs": [
    {
     "name": "stdout",
     "output_type": "stream",
     "text": [
      "['bat', 'hedgehog', 'antelope', 'rat', 'rhinoceros', 'okapi', 'octopus', 'badger', 'deer', 'wolf', 'reindeer', 'dolphin', 'dog', 'hare', 'hippopotamus', 'wombat', 'mouse', 'whale']\n"
     ]
    }
   ],
   "source": [
    "print (os.listdir(TRAIN_PATH))"
   ]
  },
  {
   "cell_type": "code",
   "execution_count": 6,
   "id": "4bbef440",
   "metadata": {},
   "outputs": [
    {
     "name": "stdout",
     "output_type": "stream",
     "text": [
      "['lobster', 'raccoon', 'possum', 'turtle', 'crab', 'tiger', 'coyote', 'gorilla', 'grasshopper', 'hamster', 'porcupine', 'moth', 'turkey', 'mosquito', 'crow']\n"
     ]
    }
   ],
   "source": [
    "print (os.listdir(VAL_PATH))"
   ]
  },
  {
   "cell_type": "markdown",
   "id": "8721eed0",
   "metadata": {},
   "source": [
    "## Loading the training and validation datasets"
   ]
  },
  {
   "cell_type": "code",
   "execution_count": 7,
   "id": "4ac611b5",
   "metadata": {},
   "outputs": [
    {
     "name": "stdout",
     "output_type": "stream",
     "text": [
      "File: 0de51464d4.jpg, Size: (168, 300, 3) Feature: [12 19 16 ...  3  3  3]\n",
      "File: 6cb2744f5a.jpg, Size: (1228, 2880, 3) Feature: [183 180 189 ...  81 107 153]\n",
      "File: 9acc1d8400.jpg, Size: (168, 300, 3) Feature: [146 137 133 ...  90  82  89]\n",
      "File: 20a23cf2c7.jpg, Size: (137, 368, 3) Feature: [255 255 255 ... 255 255 255]\n",
      "File: 7bfbd4056d.jpg, Size: (450, 360, 3) Feature: [ 67  83  66 ... 141 190 228]\n",
      "File: 0a7783e87e.jpg, Size: (168, 299, 3) Feature: [  5  50  23 ... 240 251 255]\n",
      "File: 61df1f1dfe.jpg, Size: (1400, 1400, 3) Feature: [21 14 17 ...  9  7  7]\n",
      "File: 047c50963a.jpg, Size: (1129, 1417, 3) Feature: [254 254 254 ... 254 254 254]\n",
      "File: 47e15465e6.jpg, Size: (1543, 2000, 3) Feature: [ 65 122  77 ...  26  48  53]\n",
      "File: 9aaeb59193.jpg, Size: (187, 270, 3) Feature: [190 162 162 ... 243 246 251]\n",
      "File: 7dd34833ce.jpg, Size: (675, 1200, 3) Feature: [0 0 0 ... 0 0 0]\n",
      "File: 7cc3758d67.jpg, Size: (174, 290, 3) Feature: [206 157  17 ... 172 124   0]\n",
      "File: 9a8262798f.jpg, Size: (194, 259, 3) Feature: [234 176 127 ...  25 123 109]\n",
      "File: 43f4d1e2e5.jpg, Size: (413, 620, 3) Feature: [183 158 126 ...  56 106 124]\n",
      "File: 2b75b8692d.jpg, Size: (800, 1200, 3) Feature: [143 178 212 ...  98 120 132]\n",
      "File: 2a5ff2b0c9.jpg, Size: (446, 669, 3) Feature: [186 174 162 ...  81 173 168]\n",
      "File: 8440bc86dc.jpg, Size: (452, 940, 3) Feature: [155 167 179 ... 150 162 172]\n",
      "File: 3b0111c1ab.jpg, Size: (2592, 3888, 3) Feature: [130 106  60 ... 112  66   2]\n"
     ]
    }
   ],
   "source": [
    "for directory in os.listdir(TRAIN_PATH):\n",
    "    file= os.listdir(os.path.join(TRAIN_PATH,directory))[0]\n",
    "    img=cv2.imread(os.path.join(TRAIN_PATH,directory,file))\n",
    "    print(f'File: {file}, Size: {img.shape} Feature: {img.flatten()}')"
   ]
  },
  {
   "cell_type": "code",
   "execution_count": 8,
   "id": "b89554ae",
   "metadata": {},
   "outputs": [],
   "source": [
    "def loadimgs(path, n=0):\n",
    "    '''path=> Path of the train or test directory'''\n",
    "    X=[]\n",
    "    y=[]\n",
    "    cat_dict={}\n",
    "    curr_y = n\n",
    "    # We load every animal separately so we can isolate them later\n",
    "    for animal in os.listdir(path):\n",
    "        print(\"Loading animal:\", animal)\n",
    "        cat_dict[animal]=(curr_y)\n",
    "        category_images=[]\n",
    "        animal_image_path=os.path.join(path,animal)\n",
    "        for filename in os.listdir(animal_image_path):\n",
    "            image_path=os.path.join(animal_image_path, filename)\n",
    "            image=cv2.imread(image_path)\n",
    "            resized=cv2.resize(image, (224,224),interpolation=cv2.INTER_AREA)\n",
    "            rescaled=1.0/255*resized\n",
    "            category_images.append(rescaled)\n",
    "            y.append(curr_y)\n",
    "        try:\n",
    "            X.append(np.stack(category_images))\n",
    "        except ValueError as e:\n",
    "            print(e)\n",
    "            print(\"Error-Category_images:\", category_images)\n",
    "        curr_y+=1\n",
    "    y=np.vstack(y)\n",
    "    X=np.stack(X)\n",
    "    print(\"Loading Complete\")\n",
    "    return X,y,cat_dict"
   ]
  },
  {
   "cell_type": "code",
   "execution_count": 9,
   "id": "7bf4d1bf",
   "metadata": {},
   "outputs": [
    {
     "name": "stdout",
     "output_type": "stream",
     "text": [
      "Loading animal: bat\n",
      "Loading animal: hedgehog\n",
      "Loading animal: antelope\n",
      "Loading animal: rat\n",
      "Loading animal: rhinoceros\n",
      "Loading animal: okapi\n",
      "Loading animal: octopus\n",
      "Loading animal: badger\n",
      "Loading animal: deer\n",
      "Loading animal: wolf\n",
      "Loading animal: reindeer\n",
      "Loading animal: dolphin\n",
      "Loading animal: dog\n",
      "Loading animal: hare\n",
      "Loading animal: hippopotamus\n",
      "Loading animal: wombat\n",
      "Loading animal: mouse\n",
      "Loading animal: whale\n",
      "Loading Complete\n"
     ]
    }
   ],
   "source": [
    "X,y,c=loadimgs(TRAIN_PATH)"
   ]
  },
  {
   "cell_type": "code",
   "execution_count": 10,
   "id": "977dd877",
   "metadata": {},
   "outputs": [],
   "source": [
    "with open(os.path.join(SAV_PATH,\"train.pickle\"),\"wb\") as f:\n",
    "    pickle.dump((X,c),f)"
   ]
  },
  {
   "cell_type": "code",
   "execution_count": 11,
   "id": "3aaaa4ed",
   "metadata": {},
   "outputs": [
    {
     "data": {
      "text/plain": [
       "(18, 60, 224, 224, 3)"
      ]
     },
     "execution_count": 11,
     "metadata": {},
     "output_type": "execute_result"
    }
   ],
   "source": [
    "X.shape\n",
    "# 46 categories of animal, each containg 60 images and of dimensions 64*64*3"
   ]
  },
  {
   "cell_type": "code",
   "execution_count": 12,
   "id": "173b2af2",
   "metadata": {},
   "outputs": [
    {
     "data": {
      "text/plain": [
       "(1080, 1)"
      ]
     },
     "execution_count": 12,
     "metadata": {},
     "output_type": "execute_result"
    }
   ],
   "source": [
    "y.shape"
   ]
  },
  {
   "cell_type": "code",
   "execution_count": 13,
   "id": "3a3c9c6b",
   "metadata": {},
   "outputs": [
    {
     "data": {
      "text/plain": [
       "dict_keys(['bat', 'hedgehog', 'antelope', 'rat', 'rhinoceros', 'okapi', 'octopus', 'badger', 'deer', 'wolf', 'reindeer', 'dolphin', 'dog', 'hare', 'hippopotamus', 'wombat', 'mouse', 'whale'])"
      ]
     },
     "execution_count": 13,
     "metadata": {},
     "output_type": "execute_result"
    }
   ],
   "source": [
    "c.keys()"
   ]
  },
  {
   "cell_type": "code",
   "execution_count": 14,
   "id": "64c50625",
   "metadata": {},
   "outputs": [
    {
     "data": {
      "text/plain": [
       "{'bat': 0,\n",
       " 'hedgehog': 1,\n",
       " 'antelope': 2,\n",
       " 'rat': 3,\n",
       " 'rhinoceros': 4,\n",
       " 'okapi': 5,\n",
       " 'octopus': 6,\n",
       " 'badger': 7,\n",
       " 'deer': 8,\n",
       " 'wolf': 9,\n",
       " 'reindeer': 10,\n",
       " 'dolphin': 11,\n",
       " 'dog': 12,\n",
       " 'hare': 13,\n",
       " 'hippopotamus': 14,\n",
       " 'wombat': 15,\n",
       " 'mouse': 16,\n",
       " 'whale': 17}"
      ]
     },
     "execution_count": 14,
     "metadata": {},
     "output_type": "execute_result"
    }
   ],
   "source": [
    "c\n"
   ]
  },
  {
   "cell_type": "code",
   "execution_count": 15,
   "id": "3559a955",
   "metadata": {},
   "outputs": [
    {
     "name": "stdout",
     "output_type": "stream",
     "text": [
      "Loading animal: lobster\n",
      "Loading animal: raccoon\n",
      "Loading animal: possum\n",
      "Loading animal: turtle\n",
      "Loading animal: crab\n",
      "Loading animal: tiger\n",
      "Loading animal: coyote\n",
      "Loading animal: gorilla\n",
      "Loading animal: grasshopper\n",
      "Loading animal: hamster\n",
      "Loading animal: porcupine\n",
      "Loading animal: moth\n",
      "Loading animal: turkey\n",
      "Loading animal: mosquito\n",
      "Loading animal: crow\n",
      "Loading Complete\n"
     ]
    }
   ],
   "source": [
    "Xval, yval,cval=loadimgs(VAL_PATH)"
   ]
  },
  {
   "cell_type": "code",
   "execution_count": 16,
   "id": "86bae111",
   "metadata": {},
   "outputs": [],
   "source": [
    "with open(os.path.join(SAV_PATH,\"val.pickle\"),\"wb\") as f:\n",
    "    pickle.dump((Xval,cval),f)"
   ]
  },
  {
   "cell_type": "code",
   "execution_count": 17,
   "id": "780c50ab",
   "metadata": {},
   "outputs": [
    {
     "data": {
      "text/plain": [
       "(15, 60, 224, 224, 3)"
      ]
     },
     "execution_count": 17,
     "metadata": {},
     "output_type": "execute_result"
    }
   ],
   "source": [
    "Xval.shape"
   ]
  },
  {
   "cell_type": "code",
   "execution_count": 18,
   "id": "6d0fb774",
   "metadata": {},
   "outputs": [
    {
     "data": {
      "text/plain": [
       "(900, 1)"
      ]
     },
     "execution_count": 18,
     "metadata": {},
     "output_type": "execute_result"
    }
   ],
   "source": [
    "yval.shape"
   ]
  },
  {
   "cell_type": "code",
   "execution_count": 19,
   "id": "72b347df",
   "metadata": {},
   "outputs": [
    {
     "data": {
      "text/plain": [
       "dict_keys(['lobster', 'raccoon', 'possum', 'turtle', 'crab', 'tiger', 'coyote', 'gorilla', 'grasshopper', 'hamster', 'porcupine', 'moth', 'turkey', 'mosquito', 'crow'])"
      ]
     },
     "execution_count": 19,
     "metadata": {},
     "output_type": "execute_result"
    }
   ],
   "source": [
    "cval.keys()"
   ]
  },
  {
   "cell_type": "markdown",
   "id": "d66efa81",
   "metadata": {},
   "source": [
    "## Loading the saved pickle data"
   ]
  },
  {
   "cell_type": "code",
   "execution_count": 20,
   "id": "b411f8e8",
   "metadata": {},
   "outputs": [
    {
     "name": "stdout",
     "output_type": "stream",
     "text": [
      "Training alphabets: \n",
      "\n",
      "['bat', 'hedgehog', 'antelope', 'rat', 'rhinoceros', 'okapi', 'octopus', 'badger', 'deer', 'wolf', 'reindeer', 'dolphin', 'dog', 'hare', 'hippopotamus', 'wombat', 'mouse', 'whale']\n"
     ]
    }
   ],
   "source": [
    "with open(os.path.join(SAV_PATH, \"train.pickle\"), \"rb\") as f:\n",
    "    (Xtrain, train_classes) = pickle.load(f)\n",
    "    \n",
    "print(\"Training alphabets: \\n\")\n",
    "print(list(train_classes.keys()))"
   ]
  },
  {
   "cell_type": "code",
   "execution_count": 21,
   "id": "236fa859",
   "metadata": {},
   "outputs": [
    {
     "name": "stdout",
     "output_type": "stream",
     "text": [
      "Validation alphabets:\n",
      "\n",
      "['lobster', 'raccoon', 'possum', 'turtle', 'crab', 'tiger', 'coyote', 'gorilla', 'grasshopper', 'hamster', 'porcupine', 'moth', 'turkey', 'mosquito', 'crow']\n"
     ]
    }
   ],
   "source": [
    "with open(os.path.join(SAV_PATH, \"val.pickle\"), \"rb\") as f:\n",
    "    (Xval, val_classes) = pickle.load(f)\n",
    "\n",
    "print(\"Validation alphabets:\", end=\"\\n\\n\")\n",
    "print(list(val_classes.keys()))"
   ]
  },
  {
   "cell_type": "code",
   "execution_count": 22,
   "id": "bd3fe934",
   "metadata": {},
   "outputs": [],
   "source": [
    "def get_batch(batch_size,s=\"train\"):\n",
    "    \"\"\"Create batch of n pairs, half same class, half different class\"\"\"\n",
    "    if s == 'train':\n",
    "        X = Xtrain\n",
    "        categories = train_classes\n",
    "    else:\n",
    "        X = Xval\n",
    "        categories = val_classes\n",
    "    n_classes, n_examples, w, h = X.shape[0], X.shape[1], X.shape[2], X.shape[3]\n",
    "\n",
    "    # randomly sample several classes to use in the batch\n",
    "    categories = rng.choice(n_classes,size=(batch_size,),replace=False)\n",
    "    \n",
    "    # initialize 2 empty arrays for the input image batch\n",
    "    pairs=[np.zeros((batch_size, h, w,3)) for i in range(2)]\n",
    "    \n",
    "    # initialize vector for the targets\n",
    "    targets=np.zeros((batch_size,))\n",
    "    \n",
    "    # make one half of it '1's, so 2nd half of batch has same class\n",
    "    targets[batch_size//2:] = 1\n",
    "    for i in range(batch_size):\n",
    "        category = categories[i]\n",
    "        idx_1 = rng.randint(0, n_examples)\n",
    "        pairs[0][i,:,:,:] = X[category, idx_1].reshape(w, h, 3)\n",
    "        idx_2 = rng.randint(0, n_examples)\n",
    "        \n",
    "        # pick images of same class for 1st half, different for 2nd\n",
    "        if i >= batch_size // 2:\n",
    "            category_2 = category  \n",
    "        else: \n",
    "            # add a random number to the category modulo n classes to ensure 2nd image has a different category\n",
    "            category_2 = (category + rng.randint(1,n_classes)) % n_classes\n",
    "        \n",
    "        pairs[1][i,:,:,:] = X[category_2,idx_2].reshape(w, h,3)\n",
    "    \n",
    "    return pairs, targets"
   ]
  },
  {
   "cell_type": "code",
   "execution_count": 23,
   "id": "0a267526",
   "metadata": {},
   "outputs": [],
   "source": [
    "def generate(batch_size, s=\"train\"):\n",
    "    \"\"\"a generator for batches, so model.fit_generator can be used. \"\"\"\n",
    "    while True:\n",
    "        pairs, targets = get_batch(batch_size,s)\n",
    "        yield (pairs, targets)"
   ]
  },
  {
   "cell_type": "code",
   "execution_count": 24,
   "id": "46a584a4",
   "metadata": {},
   "outputs": [],
   "source": [
    "def make_oneshot_task(N, s=\"val\", language=None):\n",
    "    \"\"\"Create pairs of test image, support set for testing N way one-shot learning. \"\"\"\n",
    "    if s == 'train':\n",
    "        X = Xtrain\n",
    "        categories = train_classes\n",
    "    else:\n",
    "        X = Xval\n",
    "        categories = val_classes\n",
    "    n_classes, n_examples, w, h = X.shape[0], X.shape[1], X.shape[2], X.shape[3]\n",
    "    \n",
    "    indices = rng.randint(0, n_examples,size=(N,))\n",
    "    categories = rng.choice(range(n_classes),size=(N,),replace=False)\n",
    "    true_category = categories[0]\n",
    "    ex1, ex2 = rng.choice(n_examples,replace=False,size=(2,))\n",
    "\n",
    "    test_image = np.asarray([X[true_category,ex1,:,:]]*N).reshape(N, w, h,3)\n",
    "    support_set = X[categories,indices,:,:]\n",
    "    support_set[0,:,:] = X[true_category,ex2]\n",
    "    support_set = support_set.reshape(N, w, h,3)\n",
    "    targets = np.zeros((N,))\n",
    "    targets[0] = 1\n",
    "    targets, test_image, support_set = shuffle(targets, test_image, support_set)\n",
    "    pairs = [test_image,support_set]\n",
    "\n",
    "    return pairs, targets"
   ]
  },
  {
   "cell_type": "code",
   "execution_count": 25,
   "id": "ee080e60",
   "metadata": {},
   "outputs": [],
   "source": [
    "def concat_images(X):\n",
    "    \"\"\"Concatenates a bunch of images into a big matrix for plotting purposes.\"\"\"\n",
    "    nc, h , w = X.shape[0], X.shape[1], X.shape[2]\n",
    "    X = X.reshape(nc, h, w,3)\n",
    "    n = np.ceil(np.sqrt(nc)).astype(\"int8\")\n",
    "    img = np.zeros((n*w,n*h,3))\n",
    "    x = 0\n",
    "    y = 0\n",
    "    for example in range(nc):\n",
    "        img[x*w:(x+1)*w,y*h:(y+1)*h] = X[example]\n",
    "        y += 1\n",
    "        if y >= n:\n",
    "            y = 0\n",
    "            x += 1\n",
    "    return img"
   ]
  },
  {
   "cell_type": "code",
   "execution_count": 26,
   "id": "2a89ee0a",
   "metadata": {},
   "outputs": [],
   "source": [
    "def plot_oneshot_task(pairs):\n",
    "    fig,(ax1,ax2) = plt.subplots(nrows=1, ncols=2)\n",
    "    ax1.matshow(pairs[0][0].reshape(224,224,3))\n",
    "    img = concat_images(pairs[1])\n",
    "    ax1.get_yaxis().set_visible(False)\n",
    "    ax1.get_xaxis().set_visible(False)\n",
    "    ax2.matshow(img,cmap='gray')\n",
    "    plt.xticks([])\n",
    "    plt.yticks([])\n",
    "    plt.show()"
   ]
  },
  {
   "cell_type": "code",
   "execution_count": 27,
   "id": "440a89a9",
   "metadata": {},
   "outputs": [
    {
     "data": {
      "image/png": "[encoded data removed]",
      "text/plain": [
       "<Figure size 432x288 with 2 Axes>"
      ]
     },
     "metadata": {
      "needs_background": "light"
     },
     "output_type": "display_data"
    }
   ],
   "source": [
    "pairs, targets = make_oneshot_task(16,\"train\")\n",
    "plot_oneshot_task(pairs)"
   ]
  },
  {
   "cell_type": "markdown",
   "id": "88f5daa7",
   "metadata": {},
   "source": [
    "## Siamese Model"
   ]
  },
  {
   "cell_type": "code",
   "execution_count": 28,
   "id": "b0f454c5",
   "metadata": {},
   "outputs": [],
   "source": [
    "def initialize_weights(shape, dtype=None):\n",
    "    \"\"\"\n",
    "        The paper, http://www.cs.utoronto.ca/~gkoch/files/msc-thesis.pdf\n",
    "        suggests to initialize CNN layer weights with mean as 0.0 and standard deviation of 0.01\n",
    "    \"\"\"\n",
    "    return np.random.normal(loc = 0.0, scale = 1e-2, size = shape)"
   ]
  },
  {
   "cell_type": "code",
   "execution_count": 29,
   "id": "02c56866",
   "metadata": {},
   "outputs": [],
   "source": [
    "def initialize_bias(shape, dtype=None):\n",
    "    \"\"\"\n",
    "        The paper, http://www.cs.utoronto.ca/~gkoch/files/msc-thesis.pdf\n",
    "        suggests to initialize CNN layer bias with mean as 0.5 and standard deviation of 0.01\n",
    "    \"\"\"\n",
    "    return np.random.normal(loc = 0.5, scale = 1e-2, size = shape)"
   ]
  },
  {
   "cell_type": "code",
   "execution_count": 30,
   "id": "9ba61d00",
   "metadata": {},
   "outputs": [],
   "source": [
    "import tensorflow as tf\n",
    "import keras\n",
    "# import keras.application\n",
    "from tensorflow.keras.applications.resnet50 import ResNet50, preprocess_input\n",
    "from keras.applications.resnet import ResNet50\n",
    "from keras.applications.resnet import ResNet50\n",
    "from keras.applications.resnet import decode_predictions\n",
    "from keras.applications.resnet import preprocess_input\n",
    "from keras.models import Model,Sequential\n",
    "from keras.layers import Input,UpSampling2D,Flatten,BatchNormalization,Dense,Dropout,GlobalAveragePooling2D\n",
    "from keras import optimizers\n",
    "import tensorflow as tf\n",
    "import numpy as np\n",
    "import matplotlib.pyplot as plt\n",
    "import time\n",
    "from keras.preprocessing import image\n",
    "from keras.preprocessing.image import ImageDataGenerator\n",
    "from glob import glob\n",
    "from PIL import Image"
   ]
  },
  {
   "cell_type": "code",
   "execution_count": 31,
   "id": "634ff3b0",
   "metadata": {},
   "outputs": [],
   "source": [
    "IMAGE_SIZE = [224, 224]"
   ]
  },
  {
   "cell_type": "code",
   "execution_count": 32,
   "id": "1a0ee5da",
   "metadata": {},
   "outputs": [
    {
     "name": "stderr",
     "output_type": "stream",
     "text": [
      "2022-04-16 18:14:48.704743: W tensorflow/stream_executor/platform/default/dso_loader.cc:64] Could not load dynamic library 'libcuda.so.1'; dlerror: libcuda.so.1: cannot open shared object file: No such file or directory; LD_LIBRARY_PATH: /home/aron/anaconda3/lib/python3.9/site-packages/cv2/../../lib64:\n",
      "2022-04-16 18:14:48.704767: W tensorflow/stream_executor/cuda/cuda_driver.cc:269] failed call to cuInit: UNKNOWN ERROR (303)\n",
      "2022-04-16 18:14:48.704786: I tensorflow/stream_executor/cuda/cuda_diagnostics.cc:156] kernel driver does not appear to be running on this host (aron-Nitro-AN515-55): /proc/driver/nvidia/version does not exist\n",
      "2022-04-16 18:14:48.705755: I tensorflow/core/platform/cpu_feature_guard.cc:151] This TensorFlow binary is optimized with oneAPI Deep Neural Network Library (oneDNN) to use the following CPU instructions in performance-critical operations:  AVX2 FMA\n",
      "To enable them in other operations, rebuild TensorFlow with the appropriate compiler flags.\n"
     ]
    }
   ],
   "source": [
    "resnet=ResNet50(input_shape=IMAGE_SIZE + [3], weights='imagenet', include_top=False)\n",
    "CHANNELS = 3\n",
    "\n",
    "IMAGE_RESIZE = 224\n",
    "RESNET50_POOLING_AVERAGE = 'avg'\n",
    "DENSE_LAYER_ACTIVATION = 'softmax'\n",
    "OBJECTIVE_FUNCTION = 'categorical_crossentropy'"
   ]
  },
  {
   "cell_type": "code",
   "execution_count": 33,
   "id": "b50e8300",
   "metadata": {},
   "outputs": [],
   "source": [
    "LOSS_METRICS = ['accuracy']\n",
    "\n",
    "# EARLY_STOP_PATIENCE must be < NUM_EPOCHS\n",
    "NUM_EPOCHS = 60\n",
    "EARLY_STOP_PATIENCE = 3\n",
    "\n",
    "# These steps value should be proper FACTOR of no.-of-images in train & valid folders respectively\n",
    "# Training images processed in each step would be no.-of-train-images / STEPS_PER_EPOCH_TRAINING\n",
    "STEPS_PER_EPOCH_TRAINING = 10\n",
    "STEPS_PER_EPOCH_VALIDATION = 10"
   ]
  },
  {
   "cell_type": "code",
   "execution_count": 34,
   "id": "b4d7ab64",
   "metadata": {},
   "outputs": [],
   "source": [
    "nb_epochs = 1\n",
    "NUM_CLASSES = 10\n",
    "\n",
    "# Fixed for Cats & Dogs color images\n",
    "CHANNELS = 3"
   ]
  },
  {
   "cell_type": "code",
   "execution_count": null,
   "id": "7528236e",
   "metadata": {},
   "outputs": [],
   "source": []
  },
  {
   "cell_type": "code",
   "execution_count": null,
   "id": "6510006e",
   "metadata": {},
   "outputs": [],
   "source": []
  },
  {
   "cell_type": "code",
   "execution_count": null,
   "id": "a608f0c6",
   "metadata": {},
   "outputs": [],
   "source": []
  },
  {
   "cell_type": "code",
   "execution_count": null,
   "id": "92f37ae7",
   "metadata": {},
   "outputs": [],
   "source": []
  },
  {
   "cell_type": "code",
   "execution_count": 35,
   "id": "41aaa36f",
   "metadata": {},
   "outputs": [],
   "source": [
    "from keras import optimizers\n",
    "from keras.models import Model,Sequential"
   ]
  },
  {
   "cell_type": "code",
   "execution_count": 36,
   "id": "6a337cb1",
   "metadata": {},
   "outputs": [
    {
     "name": "stdout",
     "output_type": "stream",
     "text": [
      "Model: \"sequential\"\n",
      "_________________________________________________________________\n",
      " Layer (type)                Output Shape              Param #   \n",
      "=================================================================\n",
      " resnet50 (Functional)       (None, 2048)              23587712  \n",
      "                                                                 \n",
      " dense (Dense)               (None, 6)                 12294     \n",
      "                                                                 \n",
      "=================================================================\n",
      "Total params: 23,600,006\n",
      "Trainable params: 12,294\n",
      "Non-trainable params: 23,587,712\n",
      "_________________________________________________________________\n"
     ]
    },
    {
     "name": "stderr",
     "output_type": "stream",
     "text": [
      "/home/aron/anaconda3/lib/python3.9/site-packages/keras/optimizer_v2/gradient_descent.py:102: UserWarning: The `lr` argument is deprecated, use `learning_rate` instead.\n",
      "  super(SGD, self).__init__(name, **kwargs)\n"
     ]
    }
   ],
   "source": [
    "\n",
    "\n",
    "\n",
    "model = Sequential()\n",
    "\n",
    "# 1st layer as the lumpsum weights from resnet50_weights_tf_dim_ordering_tf_kernels_notop.h5\n",
    "# NOTE that this layer will be set below as NOT TRAINABLE, i.e., use it as is\n",
    "model.add(ResNet50(include_top = False, pooling = RESNET50_POOLING_AVERAGE, weights = 'imagenet'))\n",
    "\n",
    "# 2nd layer as Dense for 2-class classification, i.e., dog or cat using SoftMax activation\n",
    "model.add(Dense(6, activation = 'softmax'))\n",
    "\n",
    "# Say not to train first layer (ResNet) model as it is already trained\n",
    "model.layers[0].trainable = False\n",
    "\n",
    "model.summary()\n",
    "\n",
    "\n",
    "\n",
    "sgd = tf.keras.optimizers.SGD (lr = 0.01, decay = 1e-6, momentum = 0.9, nesterov = True)\n",
    "model.compile(optimizer =sgd , loss = OBJECTIVE_FUNCTION, metrics = LOSS_METRICS)"
   ]
  },
  {
   "cell_type": "code",
   "execution_count": null,
   "id": "7f54f7e0",
   "metadata": {},
   "outputs": [],
   "source": []
  },
  {
   "cell_type": "code",
   "execution_count": 44,
   "id": "378c66d7",
   "metadata": {},
   "outputs": [],
   "source": [
    "def get_siamese_model(input_shape):\n",
    "    BATCH_SIZE_TRAINING = 10\n",
    "    BATCH_SIZE_VALIDATION = 10\n",
    "    \"\"\"\n",
    "        Model architecture based on the one provided in: http://www.cs.utoronto.ca/~gkoch/files/msc-thesis.pdf\n",
    "    \"\"\"\n",
    "    \n",
    "    # Define the tensors for the two input images\n",
    "    left_input = Input(input_shape)\n",
    "    right_input = Input(input_shape)\n",
    "    \n",
    "    # Convolutional Neural Network\n",
    "#     model = Sequential()\n",
    "#     model.add(Conv2D(16, (3,3), activation='relu', input_shape=input_shape,\n",
    "#                     kernel_initializer=initialize_weights, kernel_regularizer=l2(2e-4)))\n",
    "#     model.add(MaxPooling2D(2,2))\n",
    "#     model.add(Conv2D(32, (3,3), activation='relu', kernel_initializer=initialize_weights,\n",
    "#                      bias_initializer=initialize_bias, kernel_regularizer=l2(2e-4)))\n",
    "#     model.add(MaxPooling2D(2,2))\n",
    "#     model.add(Conv2D(64, (3,3), activation='relu',kernel_initializer=initialize_weights,\n",
    "#                      bias_initializer=initialize_bias, kernel_regularizer=l2(2e-4)))\n",
    "#     model.add(Conv2D(64, (3,3), activation='relu',kernel_initializer=initialize_weights,\n",
    "#                      bias_initializer=initialize_bias, kernel_regularizer=l2(2e-4)))\n",
    "#     model.add(MaxPooling2D(2,2))\n",
    "#     model.add(Flatten())\n",
    "#     model.add(Dense(256, activation='sigmoid',kernel_regularizer=l2(1e-3),\n",
    "#                    kernel_initializer=initialize_weights,bias_initializer=initialize_bias))\n",
    "#     model.add(Dense(256, activation='sigmoid',kernel_regularizer=l2(1e-3),\n",
    "#                    kernel_initializer=initialize_weights,bias_initializer=initialize_bias))\n",
    "    # 1st layer as the lumpsum weights from resnet50_weights_tf_dim_ordering_tf_kernels_notop.h5\n",
    "# NOTE that this layer will be set below as NOT TRAINABLE, i.e., use it as is\n",
    "\n",
    "    model = Sequential()\n",
    "    model.add(ResNet50(include_top = False, pooling = RESNET50_POOLING_AVERAGE, weights = 'imagenet'))\n",
    "\n",
    "    # 2nd layer as Dense for 2-class classification, i.e., dog or cat using SoftMax activation\n",
    "    model.add(Dense(10, activation = 'softmax'))\n",
    "\n",
    "    # Say not to train first layer (ResNet) model as it is already trained\n",
    "    model.layers[0].trainable = False\n",
    "\n",
    "    model.summary()\n",
    "\n",
    "\n",
    "\n",
    "    sgd = tf.keras.optimizers.SGD (lr = 0.01, decay = 1e-6, momentum = 0.9, nesterov = True)\n",
    "    model.compile(optimizer =sgd , loss = OBJECTIVE_FUNCTION, metrics = LOSS_METRICS)\n",
    "    \n",
    "    # Generate the encodings (feature vectors) for the two images\n",
    "    encoded_l = model(left_input)\n",
    "    encoded_r = model(right_input)\n",
    "    \n",
    "    # Add a customized layer to compute the absolute difference between the encodings\n",
    "    L1_layer = Lambda(lambda tensors:K.abs(tensors[0] - tensors[1]))\n",
    "    L1_distance = L1_layer([encoded_l, encoded_r])\n",
    "    \n",
    "    # Add a dense layer with a sigmoid unit to generate the similarity score\n",
    "    prediction = Dense(1,activation='sigmoid')(L1_distance)\n",
    "    \n",
    "    # Connect the inputs with the outputs\n",
    "    siamese_net = Model(inputs=[left_input,right_input],outputs=prediction)\n",
    "    \n",
    "    # return the model\n",
    "    return siamese_net"
   ]
  },
  {
   "cell_type": "code",
   "execution_count": 45,
   "id": "9adde8a6",
   "metadata": {},
   "outputs": [
    {
     "name": "stdout",
     "output_type": "stream",
     "text": [
      "Model: \"sequential_1\"\n",
      "_________________________________________________________________\n",
      " Layer (type)                Output Shape              Param #   \n",
      "=================================================================\n",
      " resnet50 (Functional)       (None, 2048)              23587712  \n",
      "                                                                 \n",
      " dense_1 (Dense)             (None, 10)                20490     \n",
      "                                                                 \n",
      "=================================================================\n",
      "Total params: 23,608,202\n",
      "Trainable params: 20,490\n",
      "Non-trainable params: 23,587,712\n",
      "_________________________________________________________________\n",
      "Model: \"model\"\n",
      "__________________________________________________________________________________________________\n",
      " Layer (type)                   Output Shape         Param #     Connected to                     \n",
      "==================================================================================================\n",
      " input_3 (InputLayer)           [(None, 224, 224, 3  0           []                               \n",
      "                                )]                                                                \n",
      "                                                                                                  \n",
      " input_4 (InputLayer)           [(None, 224, 224, 3  0           []                               \n",
      "                                )]                                                                \n",
      "                                                                                                  \n",
      " sequential_1 (Sequential)      (None, 10)           23608202    ['input_3[0][0]',                \n",
      "                                                                  'input_4[0][0]']                \n",
      "                                                                                                  \n",
      " lambda (Lambda)                (None, 10)           0           ['sequential_1[0][0]',           \n",
      "                                                                  'sequential_1[1][0]']           \n",
      "                                                                                                  \n",
      " dense_2 (Dense)                (None, 1)            11          ['lambda[0][0]']                 \n",
      "                                                                                                  \n",
      "==================================================================================================\n",
      "Total params: 23,608,213\n",
      "Trainable params: 20,501\n",
      "Non-trainable params: 23,587,712\n",
      "__________________________________________________________________________________________________\n"
     ]
    }
   ],
   "source": [
    "model = get_siamese_model((224, 224, 3))\n",
    "model.summary()"
   ]
  },
  {
   "cell_type": "code",
   "execution_count": 46,
   "id": "f67b2c36",
   "metadata": {},
   "outputs": [],
   "source": [
    "optimizer = Adam(learning_rate = 0.00006)\n",
    "model.compile(loss=\"binary_crossentropy\",optimizer=optimizer)"
   ]
  },
  {
   "cell_type": "code",
   "execution_count": null,
   "id": "4468759b",
   "metadata": {},
   "outputs": [],
   "source": []
  },
  {
   "cell_type": "code",
   "execution_count": 53,
   "id": "9d4e7d8f",
   "metadata": {},
   "outputs": [],
   "source": [
    "model_path =os.getcwd()+'/weight'\n",
    "os.makedirs(model_path)"
   ]
  },
  {
   "cell_type": "code",
   "execution_count": 48,
   "id": "c7123799",
   "metadata": {},
   "outputs": [],
   "source": [
    "def test_oneshot(model, N, k, s = \"val\", verbose = 0):\n",
    "    \"\"\"Test average N way oneshot learning accuracy of a siamese neural net over k one-shot tasks\"\"\"\n",
    "    n_correct = 0\n",
    "    if verbose:\n",
    "        print(\"Evaluating model on {} random {} way one-shot learning tasks ... \\n\".format(k,N))\n",
    "    for i in range(k):\n",
    "        inputs, targets = make_oneshot_task(N,s)\n",
    "        probs = model.predict(inputs)\n",
    "        if np.argmax(probs) == np.argmax(targets):\n",
    "            n_correct+=1\n",
    "    percent_correct = (100.0 * n_correct / k)\n",
    "    if verbose:\n",
    "        print(\"Got an average of {}% {} way one-shot learning accuracy \\n\".format(percent_correct,N))\n",
    "    return percent_correct"
   ]
  },
  {
   "cell_type": "code",
   "execution_count": 49,
   "id": "c914b46b",
   "metadata": {},
   "outputs": [],
   "source": [
    "# Hyper parameters\n",
    "evaluate_every = 200 # interval for evaluating on one-shot tasks\n",
    "batch_size = 10\n",
    "n_iter = 20000 # No. of training iterations\n",
    "N_way = 10 # how many classes for testing one-shot tasks\n",
    "n_val = 250 # how many one-shot tasks to validate on\n",
    "best = -1"
   ]
  },
  {
   "cell_type": "code",
   "execution_count": null,
   "id": "0be2070a",
   "metadata": {},
   "outputs": [
    {
     "name": "stdout",
     "output_type": "stream",
     "text": [
      "Starting training process!\n",
      "-------------------------------------\n",
      "\n",
      " ------------- \n",
      "\n",
      "Time for 200 iterations: 3.7232706546783447 mins\n",
      "Train Loss: 0.6847477555274963\n",
      "Evaluating model on 250 random 10 way one-shot learning tasks ... \n",
      "\n",
      "Got an average of 12.4% 10 way one-shot learning accuracy \n",
      "\n",
      "Current best: 12.4, previous best: -1\n",
      "\n",
      " ------------- \n",
      "\n",
      "Time for 400 iterations: 12.265324771404266 mins\n",
      "Train Loss: 0.6897138357162476\n",
      "Evaluating model on 250 random 10 way one-shot learning tasks ... \n",
      "\n"
     ]
    }
   ],
   "source": [
    "print(\"Starting training process!\")\n",
    "print(\"-------------------------------------\")\n",
    "t_start = time.time()\n",
    "for i in range(1, n_iter+1):\n",
    "    (inputs,targets) = get_batch(batch_size)\n",
    "    loss = model.train_on_batch(inputs, targets)\n",
    "    if i % evaluate_every == 0:\n",
    "        print(\"\\n ------------- \\n\")\n",
    "        print(\"Time for {0} iterations: {1} mins\".format(i, (time.time()-t_start)/60.0))\n",
    "        print(\"Train Loss: {0}\".format(loss)) \n",
    "        val_acc = test_oneshot(model, N_way, n_val, verbose=True)\n",
    "        model.save_weights(os.path.join(model_path, 'weights.{}.h5'.format(i)))\n",
    "        if val_acc >= best:\n",
    "            print(\"Current best: {0}, previous best: {1}\".format(val_acc, best))\n",
    "            best = val_acc"
   ]
  },
  {
   "cell_type": "code",
   "execution_count": null,
   "id": "f86b29a1",
   "metadata": {},
   "outputs": [],
   "source": []
  },
  {
   "cell_type": "code",
   "execution_count": null,
   "id": "b23108d4",
   "metadata": {},
   "outputs": [],
   "source": []
  },
  {
   "cell_type": "code",
   "execution_count": null,
   "id": "e62065fa",
   "metadata": {},
   "outputs": [],
   "source": []
  }
 ],
 "metadata": {
  "kernelspec": {
   "display_name": "Python 3 (ipykernel)",
   "language": "python",
   "name": "python3"
  },
  "language_info": {
   "codemirror_mode": {
    "name": "ipython",
    "version": 3
   },
   "file_extension": ".py",
   "mimetype": "text/x-python",
   "name": "python",
   "nbconvert_exporter": "python",
   "pygments_lexer": "ipython3",
   "version": "3.9.7"
  }
 },
 "nbformat": 4,
 "nbformat_minor": 5
}
